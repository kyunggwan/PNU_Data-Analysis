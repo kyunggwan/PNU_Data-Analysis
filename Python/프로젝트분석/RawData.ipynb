{
 "cells": [
  {
   "cell_type": "code",
   "execution_count": 6,
   "metadata": {},
   "outputs": [],
   "source": [
    "# 필요한 패키지와 라이브러리를 가져옴\n",
    "import matplotlib as mpl\n",
    "import matplotlib.pyplot as plt\n",
    "import matplotlib.font_manager as fm\n",
    "import pandas as pd\n",
    "import numpy as np\n",
    "# conda install -c conda-forge fbprophet \n",
    "from prophet import Prophet\n",
    "\n",
    "mpl.rc('font',family='Malgun Gothic')   # 맑은 고딕으로 그래프한글설정\n",
    "\n",
    "# 그래프에서 마이너스 폰트 깨지는 문제에 대한 대처\n",
    "mpl.rcParams['axes.unicode_minus'] = False"
   ]
  },
  {
   "cell_type": "code",
   "execution_count": 16,
   "metadata": {},
   "outputs": [
    {
     "data": {
      "text/html": [
       "<div>\n",
       "<style scoped>\n",
       "    .dataframe tbody tr th:only-of-type {\n",
       "        vertical-align: middle;\n",
       "    }\n",
       "\n",
       "    .dataframe tbody tr th {\n",
       "        vertical-align: top;\n",
       "    }\n",
       "\n",
       "    .dataframe thead th {\n",
       "        text-align: right;\n",
       "    }\n",
       "</style>\n",
       "<table border=\"1\" class=\"dataframe\">\n",
       "  <thead>\n",
       "    <tr style=\"text-align: right;\">\n",
       "      <th></th>\n",
       "      <th>date</th>\n",
       "      <th>car_num</th>\n",
       "      <th>daily_distance</th>\n",
       "      <th>cum_distance</th>\n",
       "      <th>information_date</th>\n",
       "      <th>car_speed</th>\n",
       "      <th>RPM</th>\n",
       "      <th>brake_signal</th>\n",
       "      <th>car_location_GPS_X</th>\n",
       "      <th>car_location_GPS_Y</th>\n",
       "      <th>RPMS</th>\n",
       "      <th>ACC</th>\n",
       "      <th>FS</th>\n",
       "      <th>RPMSR</th>\n",
       "      <th>ACCR</th>\n",
       "      <th>SRA</th>\n",
       "    </tr>\n",
       "  </thead>\n",
       "  <tbody>\n",
       "    <tr>\n",
       "      <th>0</th>\n",
       "      <td>20221201</td>\n",
       "      <td>2612</td>\n",
       "      <td>44</td>\n",
       "      <td>3093066</td>\n",
       "      <td>2.212190e+13</td>\n",
       "      <td>0</td>\n",
       "      <td>577</td>\n",
       "      <td>0</td>\n",
       "      <td>129.158634</td>\n",
       "      <td>35.236121</td>\n",
       "      <td>-29.5</td>\n",
       "      <td>0.0</td>\n",
       "      <td>0</td>\n",
       "      <td>0</td>\n",
       "      <td>0</td>\n",
       "      <td>0</td>\n",
       "    </tr>\n",
       "    <tr>\n",
       "      <th>1</th>\n",
       "      <td>20221201</td>\n",
       "      <td>2612</td>\n",
       "      <td>44</td>\n",
       "      <td>3093066</td>\n",
       "      <td>2.212190e+13</td>\n",
       "      <td>0</td>\n",
       "      <td>555</td>\n",
       "      <td>0</td>\n",
       "      <td>129.158634</td>\n",
       "      <td>35.236121</td>\n",
       "      <td>-1.5</td>\n",
       "      <td>0.0</td>\n",
       "      <td>0</td>\n",
       "      <td>0</td>\n",
       "      <td>0</td>\n",
       "      <td>0</td>\n",
       "    </tr>\n",
       "    <tr>\n",
       "      <th>2</th>\n",
       "      <td>20221201</td>\n",
       "      <td>2612</td>\n",
       "      <td>44</td>\n",
       "      <td>3093066</td>\n",
       "      <td>2.212190e+13</td>\n",
       "      <td>0</td>\n",
       "      <td>558</td>\n",
       "      <td>0</td>\n",
       "      <td>129.158634</td>\n",
       "      <td>35.236121</td>\n",
       "      <td>4.5</td>\n",
       "      <td>0.0</td>\n",
       "      <td>0</td>\n",
       "      <td>0</td>\n",
       "      <td>0</td>\n",
       "      <td>0</td>\n",
       "    </tr>\n",
       "    <tr>\n",
       "      <th>3</th>\n",
       "      <td>20221201</td>\n",
       "      <td>2612</td>\n",
       "      <td>44</td>\n",
       "      <td>3093066</td>\n",
       "      <td>2.212190e+13</td>\n",
       "      <td>0</td>\n",
       "      <td>546</td>\n",
       "      <td>0</td>\n",
       "      <td>129.158634</td>\n",
       "      <td>35.236121</td>\n",
       "      <td>-6.5</td>\n",
       "      <td>0.0</td>\n",
       "      <td>0</td>\n",
       "      <td>0</td>\n",
       "      <td>0</td>\n",
       "      <td>0</td>\n",
       "    </tr>\n",
       "    <tr>\n",
       "      <th>4</th>\n",
       "      <td>20221201</td>\n",
       "      <td>2612</td>\n",
       "      <td>44</td>\n",
       "      <td>3093066</td>\n",
       "      <td>2.212190e+13</td>\n",
       "      <td>0</td>\n",
       "      <td>561</td>\n",
       "      <td>0</td>\n",
       "      <td>129.158634</td>\n",
       "      <td>35.236121</td>\n",
       "      <td>2.0</td>\n",
       "      <td>0.0</td>\n",
       "      <td>0</td>\n",
       "      <td>0</td>\n",
       "      <td>0</td>\n",
       "      <td>0</td>\n",
       "    </tr>\n",
       "  </tbody>\n",
       "</table>\n",
       "</div>"
      ],
      "text/plain": [
       "       date  car_num  daily_distance  cum_distance  information_date  \\\n",
       "0  20221201     2612              44       3093066      2.212190e+13   \n",
       "1  20221201     2612              44       3093066      2.212190e+13   \n",
       "2  20221201     2612              44       3093066      2.212190e+13   \n",
       "3  20221201     2612              44       3093066      2.212190e+13   \n",
       "4  20221201     2612              44       3093066      2.212190e+13   \n",
       "\n",
       "   car_speed  RPM  brake_signal  car_location_GPS_X  car_location_GPS_Y  RPMS  \\\n",
       "0          0  577             0          129.158634           35.236121 -29.5   \n",
       "1          0  555             0          129.158634           35.236121  -1.5   \n",
       "2          0  558             0          129.158634           35.236121   4.5   \n",
       "3          0  546             0          129.158634           35.236121  -6.5   \n",
       "4          0  561             0          129.158634           35.236121   2.0   \n",
       "\n",
       "   ACC  FS  RPMSR  ACCR  SRA  \n",
       "0  0.0   0      0     0    0  \n",
       "1  0.0   0      0     0    0  \n",
       "2  0.0   0      0     0    0  \n",
       "3  0.0   0      0     0    0  \n",
       "4  0.0   0      0     0    0  "
      ]
     },
     "execution_count": 16,
     "metadata": {},
     "output_type": "execute_result"
    }
   ],
   "source": [
    "data = pd.read_csv('./data/Test.csv', encoding = 'cp949')\n",
    "data.head()"
   ]
  },
  {
   "cell_type": "code",
   "execution_count": 21,
   "metadata": {},
   "outputs": [
    {
     "data": {
      "text/plain": [
       "pandas.core.frame.DataFrame"
      ]
     },
     "execution_count": 21,
     "metadata": {},
     "output_type": "execute_result"
    }
   ],
   "source": []
  },
  {
   "cell_type": "code",
   "execution_count": null,
   "metadata": {},
   "outputs": [],
   "source": []
  },
  {
   "cell_type": "code",
   "execution_count": 11,
   "metadata": {},
   "outputs": [
    {
     "name": "stdout",
     "output_type": "stream",
     "text": [
      "<class 'pandas.core.frame.DataFrame'>\n",
      "RangeIndex: 168088 entries, 0 to 168087\n",
      "Data columns (total 16 columns):\n",
      " #   Column              Non-Null Count   Dtype  \n",
      "---  ------              --------------   -----  \n",
      " 0   date                168088 non-null  int64  \n",
      " 1   car_num             168088 non-null  int64  \n",
      " 2   daily_distance      168088 non-null  int64  \n",
      " 3   cum_distance        168088 non-null  int64  \n",
      " 4   information_date    168088 non-null  float64\n",
      " 5   car_speed           168088 non-null  int64  \n",
      " 6   RPM                 168088 non-null  int64  \n",
      " 7   brake_signal        168088 non-null  int64  \n",
      " 8   car_location_GPS_X  168088 non-null  float64\n",
      " 9   car_location_GPS_Y  168088 non-null  float64\n",
      " 10  RPMS                168088 non-null  float64\n",
      " 11  ACC                 168088 non-null  float64\n",
      " 12  FS                  168088 non-null  int64  \n",
      " 13  RPMSR               168088 non-null  int64  \n",
      " 14  ACCR                168088 non-null  int64  \n",
      " 15  SRA                 168088 non-null  int64  \n",
      "dtypes: float64(5), int64(11)\n",
      "memory usage: 20.5 MB\n"
     ]
    }
   ],
   "source": [
    "data.info()"
   ]
  },
  {
   "cell_type": "code",
   "execution_count": null,
   "metadata": {},
   "outputs": [],
   "source": []
  },
  {
   "cell_type": "code",
   "execution_count": null,
   "metadata": {},
   "outputs": [],
   "source": []
  }
 ],
 "metadata": {
  "kernelspec": {
   "display_name": "base",
   "language": "python",
   "name": "python3"
  },
  "language_info": {
   "codemirror_mode": {
    "name": "ipython",
    "version": 3
   },
   "file_extension": ".py",
   "mimetype": "text/x-python",
   "name": "python",
   "nbconvert_exporter": "python",
   "pygments_lexer": "ipython3",
   "version": "3.9.13"
  },
  "orig_nbformat": 4,
  "vscode": {
   "interpreter": {
    "hash": "ad2bdc8ecc057115af97d19610ffacc2b4e99fae6737bb82f5d7fb13d2f2c186"
   }
  }
 },
 "nbformat": 4,
 "nbformat_minor": 2
}
