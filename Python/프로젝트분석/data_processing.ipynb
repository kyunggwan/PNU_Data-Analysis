{
 "cells": [
  {
   "cell_type": "code",
   "execution_count": 1,
   "metadata": {},
   "outputs": [],
   "source": [
    "# 필요한 패키지와 라이브러리를 가져옴\n",
    "import matplotlib as mpl\n",
    "import matplotlib.pyplot as plt\n",
    "import matplotlib.font_manager as fm\n",
    "# conda install -c conda-forge fbprophet \n",
    "from prophet import Prophet\n",
    "\n",
    "mpl.rc('font',family='Malgun Gothic')   # 맑은 고딕으로 그래프한글설정\n",
    "\n",
    "# 그래프에서 마이너스 폰트 깨지는 문제에 대한 대처\n",
    "mpl.rcParams['axes.unicode_minus'] = False\n"
   ]
  },
  {
   "cell_type": "code",
   "execution_count": 2,
   "metadata": {},
   "outputs": [
    {
     "data": {
      "text/plain": [
       "['car.csv',\n",
       " 'Driving_Unit_Data.csv',\n",
       " 'totalmain.csv',\n",
       " 'Vehicle_Information_Data.csv']"
      ]
     },
     "execution_count": 2,
     "metadata": {},
     "output_type": "execute_result"
    }
   ],
   "source": [
    "import os\n",
    "file_list = os.listdir('./data')\n",
    "file_list"
   ]
  },
  {
   "cell_type": "code",
   "execution_count": null,
   "metadata": {},
   "outputs": [],
   "source": [
    "\n",
    "## text 파일 쪼개서 칼럼명 넣고, csv로 저장\n",
    "data = ''\n",
    "#total = ''\n",
    "total = '날짜,운행기록장치모델명,차대번호,자동차유형,자동차등록번호,운송사업자등록번호,운전자코드,일일주행거리(km),누적주행거리(km),정보발생일시,차량속도(km/h),분당엔진회전수(RPM),브레이크신호,차량위치(X좌표),차량위치(Y좌표),위성항법장치(GPS)방위각,가속도(m/sec2)Vx,가속도(m/sec2)Vy,기기및통신상태코드\\n'\n",
    "\n",
    "for fl in file_list:\n",
    "    head = ''\n",
    "    print(fl[:8])\n",
    "    head = fl[:8] + ','\n",
    "    fp = open('./data1/'+fl, 'r')\n",
    "    data = fp.readlines()\n",
    "\n",
    "    line1 = data[0]\n",
    "    print(f'{line1[:20].replace(\"#\",\"\")},{line1[20:37].replace(\"#\",\"\")},{line1[37:39].replace(\"#\",\"\")},{line1[39:48].replace(\"#\",\"\")}, {line1[48:58].replace(\"#\",\"\")}, {line1[58:].replace(\"#\",\"\")}')\n",
    "    head = head + f'{line1[:20].replace(\"#\",\"\")},{line1[20:37].replace(\"#\",\"\")},{line1[37:39].replace(\"#\",\"\")},{line1[39:48].replace(\"#\",\"\")}, {line1[48:58].replace(\"#\",\"\")}, {line1[58:].replace(\"#\",\"\")}'\n",
    "    head = head + ',' \n",
    "    head = head.replace('\\n', '')\n",
    "    \n",
    "    for line in data[1:] :\n",
    "        print(f'{line[:4]}, {line[4:11]}, 20{line[11:13]}-{line[13:15]}-{line[15:17]} {line[17:19]}:{line[19:21]}:{line[21:25]}, {line[25:28]},{line[28:32]},{line[32:33]},{line[33:42]},{line[42:51]},{line[51:54]},{line[54:60]},{line[60:66]},{line[66:68]}')\n",
    "        total = total + head + f'{line[:4]}, {line[4:11]}, 20{line[11:13]}-{line[13:15]}-{line[15:17]} {line[17:19]}:{line[19:21]}:{line[21:25]}, {line[25:28]},{line[28:32]},{line[32:33]},{line[33:42]},{line[42:51]},{line[51:54]},{line[54:60]},{line[60:66]},{line[66:68]}'\n",
    "        total = total + '\\n'\n",
    "    fp.close()\n",
    "\n",
    "fp = open(\"totaltest.csv\", \"w\") \n",
    "fp.write(total)\n",
    "fp.close()   "
   ]
  },
  {
   "cell_type": "code",
   "execution_count": null,
   "metadata": {},
   "outputs": [],
   "source": [
    "\n",
    "## 텍스트 파일형태의 자료를 칼럼명 만들어서 자른다.\n",
    "data = ''\n",
    "#total = ''\n",
    "total = '날짜,운행기록장치모델명,차대번호,자동차유형,자동차등록번호,운송사업자등록번호,운전자코드,일일주행거리(km),누적주행거리(km),정보발생일시,차량속도(km/h),분당엔진회전수(RPM),브레이크신호,차량위치(X좌표),차량위치(Y좌표),위성항법장치(GPS)방위각,가속도(m/sec2)Vx,가속도(m/sec2)Vy,기기및통신상태코드\\n'\n",
    "\n",
    "for fl in file_list[:10]:\n",
    "    head = ''\n",
    "    print(fl[:8])\n",
    "    head = fl[:8] + ','\n",
    "    fp = open('./data1/'+fl, 'r')\n",
    "    data = fp.readlines()\n",
    "\n",
    "    line1 = data[0]\n",
    "    print(f'{line1[:20].replace(\"#\",\"\")},{line1[20:37].replace(\"#\",\"\")},{line1[37:39].replace(\"#\",\"\")},{line1[39:48].replace(\"#\",\"\")}, {line1[48:58].replace(\"#\",\"\")}, {line1[58:].replace(\"#\",\"\")}')\n",
    "    head = head + f'{line1[:20].replace(\"#\",\"\")},{line1[20:37].replace(\"#\",\"\")},{line1[37:39].replace(\"#\",\"\")},{line1[39:48].replace(\"#\",\"\")}, {line1[48:58].replace(\"#\",\"\")}, {line1[58:].replace(\"#\",\"\")}'\n",
    "    head = head + ',' \n",
    "    head = head.replace('\\n', '')\n",
    "    \n",
    "    for line in data[1:] :\n",
    "        print(f'{line[:4]}, {line[4:11]}, 20{line[11:13]}-{line[13:15]}-{line[15:17]} {line[17:19]}:{line[19:21]}:{line[21:25]}, {line[25:28]},{line[28:32]},{line[32:33]},{line[33:42]},{line[42:51]},{line[51:54]},{line[54:60]},{line[60:66]},{line[66:68]}')\n",
    "        total = total + head + f'{line[:4]}, {line[4:11]}, 20{line[11:13]}-{line[13:15]}-{line[15:17]} {line[17:19]}:{line[19:21]}:{line[21:25]}, {line[25:28]},{line[28:32]},{line[32:33]},{line[33:42]},{line[42:51]},{line[51:54]},{line[54:60]},{line[60:66]},{line[66:68]}'\n",
    "        total = total + '\\n'\n",
    "    fp.close()\n",
    "\n",
    "fp = open(\"total10.csv\", \"w\") \n",
    "fp.write(total)\n",
    "fp.close()   \n",
    "     \n"
   ]
  },
  {
   "cell_type": "code",
   "execution_count": null,
   "metadata": {},
   "outputs": [],
   "source": [
    "import time\n",
    "import pandas as pd\n",
    "import pymysql\n",
    "from sqlalchemy import create_engine\n",
    "import configparser"
   ]
  },
  {
   "cell_type": "code",
   "execution_count": null,
   "metadata": {},
   "outputs": [],
   "source": [
    "## 파이썬으로 MySQL DB에 데이터 넣음\n",
    "df = pd.read_csv(\"./data/totalmain.csv\", encoding='cp949')\n",
    "\n",
    "# 컬럼 리스트 생성\n",
    "date = df.iloc[:,0].to_list()\n",
    "model_name = df.iloc[:,1].to_list()\n",
    "car_type = df.iloc[:,2].to_list()\n",
    "car_num = df.iloc[:,3].to_list()\n",
    "driver_code = df.iloc[:,4].to_list()\n",
    "daily_distance = df.iloc[:,5].to_list()\n",
    "cum_distance = df.iloc[:,6].to_list()\n",
    "information_date = df.iloc[:,7].to_list()\n",
    "car_speed = df.iloc[:,8].to_list()\n",
    "RPM = df.iloc[:,9].to_list()\n",
    "brake_signal = df.iloc[:,10].to_list()\n",
    "car_location_GPS_X = df.iloc[:,11].to_list()\n",
    "car_location_GPS_Y = df.iloc[:,12].to_list()\n",
    "Global_Positioning_System_GPS_azimuth = df.iloc[:,13].to_list()\n",
    "accelerationVx = df.iloc[:,14].to_list()\n",
    "accelerationVy = df.iloc[:,15].to_list()\n",
    "status_code = df.iloc[:,16].to_list()\n",
    "RPMS = df.iloc[:,17].to_list()\n",
    "ACC = df.iloc[:,18].to_list()\n",
    "FS = df.iloc[:,19].to_list()\n",
    "RPMSR = df.iloc[:,20].to_list()\n",
    "ACCR = df.iloc[:,21].to_list()\n",
    "SRA = df.iloc[:,22].to_list()\n",
    "\n",
    "list_sqlData = []\n",
    "\n",
    "# sql문 생성\n",
    "for i in range(len(df)) :\n",
    "    a = date[i], model_name[i] ,car_type[i],car_num[i],daily_distance[i], cum_distance[i],information_date[i],car_speed[i],RPM[i],brake_signal[i],\n",
    "    car_location_GPS_X[i],car_location_GPS_Y[i],Global_Positioning_System_GPS_azimuth[i],accelerationVx[i],accelerationVy[i],status_code[i],RPMS[i],ACC[i],FS[i],\n",
    "    RPMSR[i],ACCR[i],SRA[i]\n",
    "    list_sqlData.append(a)\n",
    "    \n",
    "\n",
    "conn = pymysql.connect(host='database-1.cd1ds11df3el.ap-northeast-2.rds.amazonaws.com',\n",
    "                                     database='db1',\n",
    "                                     user='admin',\n",
    "                                     password='tigertiger')\n",
    "try:\n",
    "    with conn.cursor() as cursor:\n",
    "        sql = 'INSERT INTO total (date, model_name, car_type, car_num, driver_code, daily_distance, cum_distance, information_date, car_speed,RPM, brake_signal, car_location_GPS_X, car_location_GPS_Y, Global_Positioning_System_GPS_azimuth, accelerationVx,accelerationVy, status_code, RPMS, ACC, FS, RPMSR, ACCR, SRA) VALUES (%s, %s, %s, %s, %s, %s, %s, %s, %s, %s, %s, %s, %s, %s, %s, %s, %s, %s, %s, %s, %s, %s, %s)'\n",
    "        cursor.executemany(sql, list_sqlData)\n",
    "    conn.commit()\n",
    "finally:\n",
    "    conn.close()\n",
    "    "
   ]
  },
  {
   "cell_type": "code",
   "execution_count": null,
   "metadata": {},
   "outputs": [],
   "source": [
    "## dtype=object   원래는 int타입의 자료만 있는 csv 파일인데 오브젝트 타입으로 자료를 연다.\n",
    "data = pd.read_csv(\"./test1/1분주행데이터.csv\", encoding='cp949',dtype=object)\n",
    "data"
   ]
  },
  {
   "cell_type": "code",
   "execution_count": null,
   "metadata": {},
   "outputs": [],
   "source": [
    "## 기존에는 숫자열이지만 위의 변환으로 str로 변환돼서 자를 수 있다. 숫자열은 slicing 안된다.\n",
    "data['information_date'] = data['information_date'].str[0:10]\n",
    "data   "
   ]
  },
  {
   "cell_type": "code",
   "execution_count": null,
   "metadata": {},
   "outputs": [],
   "source": [
    "data.tail()"
   ]
  },
  {
   "cell_type": "code",
   "execution_count": null,
   "metadata": {},
   "outputs": [],
   "source": [
    "## 중복 검사, 삭제\n",
    "## keep='first' 중복된 첫번째 항목만 남기고 나머지 없앰\n",
    "## inplace=False 중복된 값이 포함된 행의 데이터도 삭제\n",
    "data = data.drop_duplicates([\"information_date\"],keep='first',inplace=False)\n"
   ]
  },
  {
   "cell_type": "code",
   "execution_count": null,
   "metadata": {},
   "outputs": [],
   "source": [
    "## csv파일로 저장\n",
    "df = open(\"test1분.csv\", \"w\") \n",
    "data.write(data)\n",
    "df.close() "
   ]
  }
 ],
 "metadata": {
  "kernelspec": {
   "display_name": "base",
   "language": "python",
   "name": "python3"
  },
  "language_info": {
   "codemirror_mode": {
    "name": "ipython",
    "version": 3
   },
   "file_extension": ".py",
   "mimetype": "text/x-python",
   "name": "python",
   "nbconvert_exporter": "python",
   "pygments_lexer": "ipython3",
   "version": "3.9.13"
  },
  "orig_nbformat": 4,
  "vscode": {
   "interpreter": {
    "hash": "ad2bdc8ecc057115af97d19610ffacc2b4e99fae6737bb82f5d7fb13d2f2c186"
   }
  }
 },
 "nbformat": 4,
 "nbformat_minor": 2
}
